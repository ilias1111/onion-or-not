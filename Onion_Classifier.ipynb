{
  "nbformat": 4,
  "nbformat_minor": 0,
  "metadata": {
    "colab": {
      "name": "Onion Classifier",
      "provenance": [],
      "collapsed_sections": [],
      "machine_shape": "hm"
    },
    "kernelspec": {
      "name": "python3",
      "display_name": "Python 3"
    },
    "accelerator": "GPU"
  },
  "cells": [
    {
      "cell_type": "markdown",
      "metadata": {
        "id": "RJYgj0CtmWeK"
      },
      "source": [
        "# Init\n",
        "\n"
      ]
    },
    {
      "cell_type": "code",
      "metadata": {
        "id": "AIkFDzxjOGsJ",
        "outputId": "2d363f28-4e6a-4456-c86a-86abdc201472",
        "colab": {
          "base_uri": "https://localhost:8080/",
          "height": 100
        }
      },
      "source": [
        "from sklearn.feature_extraction.text import TfidfVectorizer\n",
        "from sklearn.model_selection import train_test_split\n",
        "from sklearn import metrics\n",
        "from sklearn.model_selection import GridSearchCV\n",
        "from sklearn.model_selection import StratifiedKFold\n",
        "from sklearn.model_selection import cross_val_score\n",
        "from sklearn.model_selection import cross_validate\n",
        "\n",
        "from keras.wrappers.scikit_learn import KerasClassifier\n",
        "from keras.layers import  Dropout, Dense\n",
        "from keras.models import Sequential\n",
        "from keras import backend as K\n",
        "import tensorflow as tf\n",
        "import plotly.graph_objects as go\n",
        "\n",
        "\n",
        "import matplotlib.pyplot as plt\n",
        "import plotly.express as px\n",
        "\n",
        "import numpy as np\n",
        "import pandas as pd\n",
        "import nltk\n",
        "import re\n",
        "\n",
        "from wordcloud import WordCloud\n",
        "\n",
        "nltk.download('punkt')\n",
        "nltk.download('stopwords')"
      ],
      "execution_count": 2,
      "outputs": [
        {
          "output_type": "stream",
          "text": [
            "[nltk_data] Downloading package punkt to /root/nltk_data...\n",
            "[nltk_data]   Unzipping tokenizers/punkt.zip.\n",
            "[nltk_data] Downloading package stopwords to /root/nltk_data...\n",
            "[nltk_data]   Unzipping corpora/stopwords.zip.\n"
          ],
          "name": "stdout"
        },
        {
          "output_type": "execute_result",
          "data": {
            "text/plain": [
              "True"
            ]
          },
          "metadata": {
            "tags": []
          },
          "execution_count": 2
        }
      ]
    },
    {
      "cell_type": "code",
      "metadata": {
        "id": "_URPq7zrzH9B"
      },
      "source": [
        "ENG_SW = set(nltk.corpus.stopwords.words('english'))"
      ],
      "execution_count": 3,
      "outputs": []
    },
    {
      "cell_type": "code",
      "metadata": {
        "id": "SYwYItFJUYVH"
      },
      "source": [
        "seed = 42\n",
        "np.random.seed(seed)"
      ],
      "execution_count": 4,
      "outputs": []
    },
    {
      "cell_type": "markdown",
      "metadata": {
        "id": "wCHmHmwXmcj9"
      },
      "source": [
        "# Pre Proccess"
      ]
    },
    {
      "cell_type": "code",
      "metadata": {
        "id": "Ak1ERjM6P6-e"
      },
      "source": [
        "df = pd.read_csv(\"onion-or-not.csv\")"
      ],
      "execution_count": 6,
      "outputs": []
    },
    {
      "cell_type": "code",
      "metadata": {
        "id": "S_YSLrDwQpXt",
        "outputId": "ff4ad3c4-6257-4e94-9fb7-96b1d7a8c9c3",
        "colab": {
          "base_uri": "https://localhost:8080/",
          "height": 197
        }
      },
      "source": [
        "df.head(5)"
      ],
      "execution_count": 7,
      "outputs": [
        {
          "output_type": "execute_result",
          "data": {
            "text/html": [
              "<div>\n",
              "<style scoped>\n",
              "    .dataframe tbody tr th:only-of-type {\n",
              "        vertical-align: middle;\n",
              "    }\n",
              "\n",
              "    .dataframe tbody tr th {\n",
              "        vertical-align: top;\n",
              "    }\n",
              "\n",
              "    .dataframe thead th {\n",
              "        text-align: right;\n",
              "    }\n",
              "</style>\n",
              "<table border=\"1\" class=\"dataframe\">\n",
              "  <thead>\n",
              "    <tr style=\"text-align: right;\">\n",
              "      <th></th>\n",
              "      <th>text</th>\n",
              "      <th>label</th>\n",
              "    </tr>\n",
              "  </thead>\n",
              "  <tbody>\n",
              "    <tr>\n",
              "      <th>0</th>\n",
              "      <td>Entire Facebook Staff Laughs As Man Tightens P...</td>\n",
              "      <td>1</td>\n",
              "    </tr>\n",
              "    <tr>\n",
              "      <th>1</th>\n",
              "      <td>Muslim Woman Denied Soda Can for Fear She Coul...</td>\n",
              "      <td>0</td>\n",
              "    </tr>\n",
              "    <tr>\n",
              "      <th>2</th>\n",
              "      <td>Bold Move: Hulu Has Announced That They’re Gon...</td>\n",
              "      <td>1</td>\n",
              "    </tr>\n",
              "    <tr>\n",
              "      <th>3</th>\n",
              "      <td>Despondent Jeff Bezos Realizes He’ll Have To W...</td>\n",
              "      <td>1</td>\n",
              "    </tr>\n",
              "    <tr>\n",
              "      <th>4</th>\n",
              "      <td>For men looking for great single women, online...</td>\n",
              "      <td>1</td>\n",
              "    </tr>\n",
              "  </tbody>\n",
              "</table>\n",
              "</div>"
            ],
            "text/plain": [
              "                                                text  label\n",
              "0  Entire Facebook Staff Laughs As Man Tightens P...      1\n",
              "1  Muslim Woman Denied Soda Can for Fear She Coul...      0\n",
              "2  Bold Move: Hulu Has Announced That They’re Gon...      1\n",
              "3  Despondent Jeff Bezos Realizes He’ll Have To W...      1\n",
              "4  For men looking for great single women, online...      1"
            ]
          },
          "metadata": {
            "tags": []
          },
          "execution_count": 7
        }
      ]
    },
    {
      "cell_type": "code",
      "metadata": {
        "id": "s6iCI5fqQDrj",
        "outputId": "5f02892c-ac20-439c-83de-99e96b7b91fb",
        "colab": {
          "base_uri": "https://localhost:8080/",
          "height": 66
        }
      },
      "source": [
        "df[\"label\"].value_counts()/len(df[\"label\"])"
      ],
      "execution_count": 8,
      "outputs": [
        {
          "output_type": "execute_result",
          "data": {
            "text/plain": [
              "0    0.625\n",
              "1    0.375\n",
              "Name: label, dtype: float64"
            ]
          },
          "metadata": {
            "tags": []
          },
          "execution_count": 8
        }
      ]
    },
    {
      "cell_type": "code",
      "metadata": {
        "id": "kEjsAgt0qXBY",
        "outputId": "5f6e287e-5c4d-47fe-f4b3-c39f747e2149",
        "colab": {
          "base_uri": "https://localhost:8080/",
          "height": 107
        }
      },
      "source": [
        "pd.DataFrame(df[\"label\"].replace({0:\"Not Onion\", 1:\"Onion\"}).value_counts())"
      ],
      "execution_count": 26,
      "outputs": [
        {
          "output_type": "execute_result",
          "data": {
            "text/html": [
              "<div>\n",
              "<style scoped>\n",
              "    .dataframe tbody tr th:only-of-type {\n",
              "        vertical-align: middle;\n",
              "    }\n",
              "\n",
              "    .dataframe tbody tr th {\n",
              "        vertical-align: top;\n",
              "    }\n",
              "\n",
              "    .dataframe thead th {\n",
              "        text-align: right;\n",
              "    }\n",
              "</style>\n",
              "<table border=\"1\" class=\"dataframe\">\n",
              "  <thead>\n",
              "    <tr style=\"text-align: right;\">\n",
              "      <th></th>\n",
              "      <th>label</th>\n",
              "    </tr>\n",
              "  </thead>\n",
              "  <tbody>\n",
              "    <tr>\n",
              "      <th>Not Onion</th>\n",
              "      <td>15000</td>\n",
              "    </tr>\n",
              "    <tr>\n",
              "      <th>Onion</th>\n",
              "      <td>9000</td>\n",
              "    </tr>\n",
              "  </tbody>\n",
              "</table>\n",
              "</div>"
            ],
            "text/plain": [
              "           label\n",
              "Not Onion  15000\n",
              "Onion       9000"
            ]
          },
          "metadata": {
            "tags": []
          },
          "execution_count": 26
        }
      ]
    },
    {
      "cell_type": "code",
      "metadata": {
        "id": "gTswmT4hqH67",
        "outputId": "c03b13f7-c2dd-4e5e-a472-f4ab012bd97b",
        "colab": {
          "base_uri": "https://localhost:8080/",
          "height": 542
        }
      },
      "source": [
        "fig = px.pie(pd.DataFrame(df[\"label\"].value_counts()), values='label', title='Source Distribution',names=[\"Not Onion\",\"Onion\"])\n",
        "fig.show()"
      ],
      "execution_count": 10,
      "outputs": [
        {
          "output_type": "display_data",
          "data": {
            "text/html": [
              "<html>\n",
              "<head><meta charset=\"utf-8\" /></head>\n",
              "<body>\n",
              "    <div>\n",
              "            <script src=\"https://cdnjs.cloudflare.com/ajax/libs/mathjax/2.7.5/MathJax.js?config=TeX-AMS-MML_SVG\"></script><script type=\"text/javascript\">if (window.MathJax) {MathJax.Hub.Config({SVG: {font: \"STIX-Web\"}});}</script>\n",
              "                <script type=\"text/javascript\">window.PlotlyConfig = {MathJaxConfig: 'local'};</script>\n",
              "        <script src=\"https://cdn.plot.ly/plotly-latest.min.js\"></script>    \n",
              "            <div id=\"22745629-91d6-40c1-aeb7-a3f3353810b1\" class=\"plotly-graph-div\" style=\"height:525px; width:100%;\"></div>\n",
              "            <script type=\"text/javascript\">\n",
              "                \n",
              "                    window.PLOTLYENV=window.PLOTLYENV || {};\n",
              "                    \n",
              "                if (document.getElementById(\"22745629-91d6-40c1-aeb7-a3f3353810b1\")) {\n",
              "                    Plotly.newPlot(\n",
              "                        '22745629-91d6-40c1-aeb7-a3f3353810b1',\n",
              "                        [{\"domain\": {\"x\": [0.0, 1.0], \"y\": [0.0, 1.0]}, \"hoverlabel\": {\"namelength\": 0}, \"hovertemplate\": \"label=%{value}\", \"labels\": [\"Not Onion\", \"Onion\"], \"legendgroup\": \"\", \"name\": \"\", \"showlegend\": true, \"type\": \"pie\", \"values\": [15000, 9000]}],\n",
              "                        {\"legend\": {\"tracegroupgap\": 0}, \"template\": {\"data\": {\"bar\": [{\"error_x\": {\"color\": \"#2a3f5f\"}, \"error_y\": {\"color\": \"#2a3f5f\"}, \"marker\": {\"line\": {\"color\": \"#E5ECF6\", \"width\": 0.5}}, \"type\": \"bar\"}], \"barpolar\": [{\"marker\": {\"line\": {\"color\": \"#E5ECF6\", \"width\": 0.5}}, \"type\": \"barpolar\"}], \"carpet\": [{\"aaxis\": {\"endlinecolor\": \"#2a3f5f\", \"gridcolor\": \"white\", \"linecolor\": \"white\", \"minorgridcolor\": \"white\", \"startlinecolor\": \"#2a3f5f\"}, \"baxis\": {\"endlinecolor\": \"#2a3f5f\", \"gridcolor\": \"white\", \"linecolor\": \"white\", \"minorgridcolor\": \"white\", \"startlinecolor\": \"#2a3f5f\"}, \"type\": \"carpet\"}], \"choropleth\": [{\"colorbar\": {\"outlinewidth\": 0, \"ticks\": \"\"}, \"type\": \"choropleth\"}], \"contour\": [{\"colorbar\": {\"outlinewidth\": 0, \"ticks\": \"\"}, \"colorscale\": [[0.0, \"#0d0887\"], [0.1111111111111111, \"#46039f\"], [0.2222222222222222, \"#7201a8\"], [0.3333333333333333, \"#9c179e\"], [0.4444444444444444, \"#bd3786\"], [0.5555555555555556, \"#d8576b\"], [0.6666666666666666, \"#ed7953\"], [0.7777777777777778, \"#fb9f3a\"], [0.8888888888888888, \"#fdca26\"], [1.0, \"#f0f921\"]], \"type\": \"contour\"}], \"contourcarpet\": [{\"colorbar\": {\"outlinewidth\": 0, \"ticks\": \"\"}, \"type\": \"contourcarpet\"}], \"heatmap\": [{\"colorbar\": {\"outlinewidth\": 0, \"ticks\": \"\"}, \"colorscale\": [[0.0, \"#0d0887\"], [0.1111111111111111, \"#46039f\"], [0.2222222222222222, \"#7201a8\"], [0.3333333333333333, \"#9c179e\"], [0.4444444444444444, \"#bd3786\"], [0.5555555555555556, \"#d8576b\"], [0.6666666666666666, \"#ed7953\"], [0.7777777777777778, \"#fb9f3a\"], [0.8888888888888888, \"#fdca26\"], [1.0, \"#f0f921\"]], \"type\": \"heatmap\"}], \"heatmapgl\": [{\"colorbar\": {\"outlinewidth\": 0, \"ticks\": \"\"}, \"colorscale\": [[0.0, \"#0d0887\"], [0.1111111111111111, \"#46039f\"], [0.2222222222222222, \"#7201a8\"], [0.3333333333333333, \"#9c179e\"], [0.4444444444444444, \"#bd3786\"], [0.5555555555555556, \"#d8576b\"], [0.6666666666666666, \"#ed7953\"], [0.7777777777777778, \"#fb9f3a\"], [0.8888888888888888, \"#fdca26\"], [1.0, \"#f0f921\"]], \"type\": \"heatmapgl\"}], \"histogram\": [{\"marker\": {\"colorbar\": {\"outlinewidth\": 0, \"ticks\": \"\"}}, \"type\": \"histogram\"}], \"histogram2d\": [{\"colorbar\": {\"outlinewidth\": 0, \"ticks\": \"\"}, \"colorscale\": [[0.0, \"#0d0887\"], [0.1111111111111111, \"#46039f\"], [0.2222222222222222, \"#7201a8\"], [0.3333333333333333, \"#9c179e\"], [0.4444444444444444, \"#bd3786\"], [0.5555555555555556, \"#d8576b\"], [0.6666666666666666, \"#ed7953\"], [0.7777777777777778, \"#fb9f3a\"], [0.8888888888888888, \"#fdca26\"], [1.0, \"#f0f921\"]], \"type\": \"histogram2d\"}], \"histogram2dcontour\": [{\"colorbar\": {\"outlinewidth\": 0, \"ticks\": \"\"}, \"colorscale\": [[0.0, \"#0d0887\"], [0.1111111111111111, \"#46039f\"], [0.2222222222222222, \"#7201a8\"], [0.3333333333333333, \"#9c179e\"], [0.4444444444444444, \"#bd3786\"], [0.5555555555555556, \"#d8576b\"], [0.6666666666666666, \"#ed7953\"], [0.7777777777777778, \"#fb9f3a\"], [0.8888888888888888, \"#fdca26\"], [1.0, \"#f0f921\"]], \"type\": \"histogram2dcontour\"}], \"mesh3d\": [{\"colorbar\": {\"outlinewidth\": 0, \"ticks\": \"\"}, \"type\": \"mesh3d\"}], \"parcoords\": [{\"line\": {\"colorbar\": {\"outlinewidth\": 0, \"ticks\": \"\"}}, \"type\": \"parcoords\"}], \"pie\": [{\"automargin\": true, \"type\": \"pie\"}], \"scatter\": [{\"marker\": {\"colorbar\": {\"outlinewidth\": 0, \"ticks\": \"\"}}, \"type\": \"scatter\"}], \"scatter3d\": [{\"line\": {\"colorbar\": {\"outlinewidth\": 0, \"ticks\": \"\"}}, \"marker\": {\"colorbar\": {\"outlinewidth\": 0, \"ticks\": \"\"}}, \"type\": \"scatter3d\"}], \"scattercarpet\": [{\"marker\": {\"colorbar\": {\"outlinewidth\": 0, \"ticks\": \"\"}}, \"type\": \"scattercarpet\"}], \"scattergeo\": [{\"marker\": {\"colorbar\": {\"outlinewidth\": 0, \"ticks\": \"\"}}, \"type\": \"scattergeo\"}], \"scattergl\": [{\"marker\": {\"colorbar\": {\"outlinewidth\": 0, \"ticks\": \"\"}}, \"type\": \"scattergl\"}], \"scattermapbox\": [{\"marker\": {\"colorbar\": {\"outlinewidth\": 0, \"ticks\": \"\"}}, \"type\": \"scattermapbox\"}], \"scatterpolar\": [{\"marker\": {\"colorbar\": {\"outlinewidth\": 0, \"ticks\": \"\"}}, \"type\": \"scatterpolar\"}], \"scatterpolargl\": [{\"marker\": {\"colorbar\": {\"outlinewidth\": 0, \"ticks\": \"\"}}, \"type\": \"scatterpolargl\"}], \"scatterternary\": [{\"marker\": {\"colorbar\": {\"outlinewidth\": 0, \"ticks\": \"\"}}, \"type\": \"scatterternary\"}], \"surface\": [{\"colorbar\": {\"outlinewidth\": 0, \"ticks\": \"\"}, \"colorscale\": [[0.0, \"#0d0887\"], [0.1111111111111111, \"#46039f\"], [0.2222222222222222, \"#7201a8\"], [0.3333333333333333, \"#9c179e\"], [0.4444444444444444, \"#bd3786\"], [0.5555555555555556, \"#d8576b\"], [0.6666666666666666, \"#ed7953\"], [0.7777777777777778, \"#fb9f3a\"], [0.8888888888888888, \"#fdca26\"], [1.0, \"#f0f921\"]], \"type\": \"surface\"}], \"table\": [{\"cells\": {\"fill\": {\"color\": \"#EBF0F8\"}, \"line\": {\"color\": \"white\"}}, \"header\": {\"fill\": {\"color\": \"#C8D4E3\"}, \"line\": {\"color\": \"white\"}}, \"type\": \"table\"}]}, \"layout\": {\"annotationdefaults\": {\"arrowcolor\": \"#2a3f5f\", \"arrowhead\": 0, \"arrowwidth\": 1}, \"coloraxis\": {\"colorbar\": {\"outlinewidth\": 0, \"ticks\": \"\"}}, \"colorscale\": {\"diverging\": [[0, \"#8e0152\"], [0.1, \"#c51b7d\"], [0.2, \"#de77ae\"], [0.3, \"#f1b6da\"], [0.4, \"#fde0ef\"], [0.5, \"#f7f7f7\"], [0.6, \"#e6f5d0\"], [0.7, \"#b8e186\"], [0.8, \"#7fbc41\"], [0.9, \"#4d9221\"], [1, \"#276419\"]], \"sequential\": [[0.0, \"#0d0887\"], [0.1111111111111111, \"#46039f\"], [0.2222222222222222, \"#7201a8\"], [0.3333333333333333, \"#9c179e\"], [0.4444444444444444, \"#bd3786\"], [0.5555555555555556, \"#d8576b\"], [0.6666666666666666, \"#ed7953\"], [0.7777777777777778, \"#fb9f3a\"], [0.8888888888888888, \"#fdca26\"], [1.0, \"#f0f921\"]], \"sequentialminus\": [[0.0, \"#0d0887\"], [0.1111111111111111, \"#46039f\"], [0.2222222222222222, \"#7201a8\"], [0.3333333333333333, \"#9c179e\"], [0.4444444444444444, \"#bd3786\"], [0.5555555555555556, \"#d8576b\"], [0.6666666666666666, \"#ed7953\"], [0.7777777777777778, \"#fb9f3a\"], [0.8888888888888888, \"#fdca26\"], [1.0, \"#f0f921\"]]}, \"colorway\": [\"#636efa\", \"#EF553B\", \"#00cc96\", \"#ab63fa\", \"#FFA15A\", \"#19d3f3\", \"#FF6692\", \"#B6E880\", \"#FF97FF\", \"#FECB52\"], \"font\": {\"color\": \"#2a3f5f\"}, \"geo\": {\"bgcolor\": \"white\", \"lakecolor\": \"white\", \"landcolor\": \"#E5ECF6\", \"showlakes\": true, \"showland\": true, \"subunitcolor\": \"white\"}, \"hoverlabel\": {\"align\": \"left\"}, \"hovermode\": \"closest\", \"mapbox\": {\"style\": \"light\"}, \"paper_bgcolor\": \"white\", \"plot_bgcolor\": \"#E5ECF6\", \"polar\": {\"angularaxis\": {\"gridcolor\": \"white\", \"linecolor\": \"white\", \"ticks\": \"\"}, \"bgcolor\": \"#E5ECF6\", \"radialaxis\": {\"gridcolor\": \"white\", \"linecolor\": \"white\", \"ticks\": \"\"}}, \"scene\": {\"xaxis\": {\"backgroundcolor\": \"#E5ECF6\", \"gridcolor\": \"white\", \"gridwidth\": 2, \"linecolor\": \"white\", \"showbackground\": true, \"ticks\": \"\", \"zerolinecolor\": \"white\"}, \"yaxis\": {\"backgroundcolor\": \"#E5ECF6\", \"gridcolor\": \"white\", \"gridwidth\": 2, \"linecolor\": \"white\", \"showbackground\": true, \"ticks\": \"\", \"zerolinecolor\": \"white\"}, \"zaxis\": {\"backgroundcolor\": \"#E5ECF6\", \"gridcolor\": \"white\", \"gridwidth\": 2, \"linecolor\": \"white\", \"showbackground\": true, \"ticks\": \"\", \"zerolinecolor\": \"white\"}}, \"shapedefaults\": {\"line\": {\"color\": \"#2a3f5f\"}}, \"ternary\": {\"aaxis\": {\"gridcolor\": \"white\", \"linecolor\": \"white\", \"ticks\": \"\"}, \"baxis\": {\"gridcolor\": \"white\", \"linecolor\": \"white\", \"ticks\": \"\"}, \"bgcolor\": \"#E5ECF6\", \"caxis\": {\"gridcolor\": \"white\", \"linecolor\": \"white\", \"ticks\": \"\"}}, \"title\": {\"x\": 0.05}, \"xaxis\": {\"automargin\": true, \"gridcolor\": \"white\", \"linecolor\": \"white\", \"ticks\": \"\", \"title\": {\"standoff\": 15}, \"zerolinecolor\": \"white\", \"zerolinewidth\": 2}, \"yaxis\": {\"automargin\": true, \"gridcolor\": \"white\", \"linecolor\": \"white\", \"ticks\": \"\", \"title\": {\"standoff\": 15}, \"zerolinecolor\": \"white\", \"zerolinewidth\": 2}}}, \"title\": {\"text\": \"Source Distribution\"}},\n",
              "                        {\"responsive\": true}\n",
              "                    ).then(function(){\n",
              "                            \n",
              "var gd = document.getElementById('22745629-91d6-40c1-aeb7-a3f3353810b1');\n",
              "var x = new MutationObserver(function (mutations, observer) {{\n",
              "        var display = window.getComputedStyle(gd).display;\n",
              "        if (!display || display === 'none') {{\n",
              "            console.log([gd, 'removed!']);\n",
              "            Plotly.purge(gd);\n",
              "            observer.disconnect();\n",
              "        }}\n",
              "}});\n",
              "\n",
              "// Listen for the removal of the full notebook cells\n",
              "var notebookContainer = gd.closest('#notebook-container');\n",
              "if (notebookContainer) {{\n",
              "    x.observe(notebookContainer, {childList: true});\n",
              "}}\n",
              "\n",
              "// Listen for the clearing of the current output cell\n",
              "var outputEl = gd.closest('.output');\n",
              "if (outputEl) {{\n",
              "    x.observe(outputEl, {childList: true});\n",
              "}}\n",
              "\n",
              "                        })\n",
              "                };\n",
              "                \n",
              "            </script>\n",
              "        </div>\n",
              "</body>\n",
              "</html>"
            ]
          },
          "metadata": {
            "tags": []
          }
        }
      ]
    },
    {
      "cell_type": "code",
      "metadata": {
        "id": "A3d7jO3zqdHW"
      },
      "source": [
        "def prepossessing(df):\n",
        "\n",
        "    df[\"text\"] = df[\"text\"].apply(lambda x : x.lower())\n",
        "    df[\"text\"] = df[\"text\"].apply(lambda x :  re.sub('[^a-zA-z0-9\\s]','',x)) \n",
        "    df[\"text_list\"] = df[\"text\"].apply(lambda x : nltk.word_tokenize(x))\n",
        "    df[\"cleaned_list\"] = df[\"text_list\"].apply(lambda x: [word for word in x if word not in ENG_SW])\n",
        "    df[\"stemmed_cleaned_list\"] = df[\"cleaned_list\"].apply(lambda x : [nltk.PorterStemmer().stem(i) for i in x])\n",
        "    df['text_edited'] = df['stemmed_cleaned_list'].apply(lambda x : \" \".join(x))\n",
        "\n",
        "    return df['text_edited']"
      ],
      "execution_count": 11,
      "outputs": []
    },
    {
      "cell_type": "code",
      "metadata": {
        "id": "z9ZgEaHmzMhx"
      },
      "source": [
        "df_X = prepossessing(df)"
      ],
      "execution_count": 12,
      "outputs": []
    },
    {
      "cell_type": "code",
      "metadata": {
        "id": "JzRDa71m3iTb"
      },
      "source": [
        "df_Y = df['label']"
      ],
      "execution_count": 13,
      "outputs": []
    },
    {
      "cell_type": "code",
      "metadata": {
        "id": "EIJxGUWwiz1y",
        "outputId": "4095501f-d615-4c3a-b10f-816c88d749a7",
        "colab": {
          "base_uri": "https://localhost:8080/",
          "height": 50
        }
      },
      "source": [
        "X_train, X_test, y_train, y_test = train_test_split(df_X, df_Y, test_size=0.25, random_state=seed)\n",
        "print(X_train.shape, y_train.shape)\n",
        "print(X_test.shape, y_test.shape)"
      ],
      "execution_count": 14,
      "outputs": [
        {
          "output_type": "stream",
          "text": [
            "(18000,) (18000,)\n",
            "(6000,) (6000,)\n"
          ],
          "name": "stdout"
        }
      ]
    },
    {
      "cell_type": "markdown",
      "metadata": {
        "id": "ULhYDihtmo-q"
      },
      "source": [
        "# TF idf"
      ]
    },
    {
      "cell_type": "code",
      "metadata": {
        "id": "wR6Ix2Jklzsl"
      },
      "source": [
        "vectorizer_x = TfidfVectorizer()"
      ],
      "execution_count": 15,
      "outputs": []
    },
    {
      "cell_type": "code",
      "metadata": {
        "id": "eAXx5TsHlpwa"
      },
      "source": [
        "X_train_tfidf = vectorizer_x.fit_transform(X_train).toarray()\n",
        "X_test_tfidf = vectorizer_x.transform(X_test).toarray()"
      ],
      "execution_count": 16,
      "outputs": []
    },
    {
      "cell_type": "markdown",
      "metadata": {
        "id": "un4PMMhGmtni"
      },
      "source": [
        "# Model"
      ]
    },
    {
      "cell_type": "markdown",
      "metadata": {
        "id": "rnlhf58sUKn6"
      },
      "source": [
        ""
      ]
    },
    {
      "cell_type": "code",
      "metadata": {
        "id": "m9oUAGfRkFjn"
      },
      "source": [
        "def Build_Model_DNN_Text(shape, optimizer='Adam', nLayers= 1, neurons=16, dropout=0.85):\n",
        "    \"\"\"\n",
        "    Build_Model_DNN_Tex(shape, nClasses,dropout)\n",
        "    Build Deep neural networks Model for text classification\n",
        "    Shape is input feature space\n",
        "    \"\"\"\n",
        "    model = Sequential()\n",
        "     # number of  hidden layer\n",
        "    model.add(Dense(64,input_dim=shape,activation='elu'))\n",
        "    model.add(Dropout(dropout))\n",
        "    for i in range(0,nLayers):\n",
        "        model.add(Dense(neurons,input_dim=neurons,activation='elu'))\n",
        "        model.add(Dropout(dropout))\n",
        "    model.add(Dense(1, activation='sigmoid'))\n",
        "    model.compile(loss='binary_crossentropy',\n",
        "                  optimizer=optimizer,\n",
        "                  metrics=['accuracy',tf.keras.metrics.AUC(),tf.keras.metrics.Precision(),tf.keras.metrics.Recall()])\n",
        "    return model"
      ],
      "execution_count": 17,
      "outputs": []
    },
    {
      "cell_type": "markdown",
      "metadata": {
        "id": "QpFkl2wQll_Z"
      },
      "source": [
        "#Val"
      ]
    },
    {
      "cell_type": "code",
      "metadata": {
        "id": "QKfAFKI2ljRd",
        "outputId": "0746b29f-c348-4094-8c59-7d592fd743c5",
        "colab": {
          "base_uri": "https://localhost:8080/",
          "height": 1000
        }
      },
      "source": [
        "model_DNN = Build_Model_DNN_Text(X_train_tfidf.shape[1])\n",
        "history = model_DNN.fit(X_train_tfidf, y_train,\n",
        "                            validation_data=(X_test_tfidf, y_test),\n",
        "                            epochs=100,\n",
        "                            batch_size=4096,\n",
        "                            verbose=2,\n",
        "                            callbacks=[tf.keras.callbacks.EarlyStopping(monitor='val_accuracy', mode = \"max\", patience=10)]\n",
        "                            )"
      ],
      "execution_count": 18,
      "outputs": [
        {
          "output_type": "stream",
          "text": [
            "Epoch 1/100\n",
            "5/5 - 1s - loss: 0.6907 - accuracy: 0.5343 - auc: 0.5052 - precision: 0.3813 - recall: 0.3808 - val_loss: 0.6779 - val_accuracy: 0.6292 - val_auc: 0.7134 - val_precision: 0.0000e+00 - val_recall: 0.0000e+00\n",
            "Epoch 2/100\n",
            "5/5 - 0s - loss: 0.6766 - accuracy: 0.5921 - auc: 0.5422 - precision: 0.4165 - recall: 0.2092 - val_loss: 0.6643 - val_accuracy: 0.6292 - val_auc: 0.8055 - val_precision: 0.0000e+00 - val_recall: 0.0000e+00\n",
            "Epoch 3/100\n",
            "5/5 - 0s - loss: 0.6672 - accuracy: 0.6031 - auc: 0.5535 - precision: 0.4042 - recall: 0.1153 - val_loss: 0.6525 - val_accuracy: 0.6292 - val_auc: 0.8453 - val_precision: 0.0000e+00 - val_recall: 0.0000e+00\n",
            "Epoch 4/100\n",
            "5/5 - 0s - loss: 0.6585 - accuracy: 0.6120 - auc: 0.5679 - precision: 0.4215 - recall: 0.0828 - val_loss: 0.6423 - val_accuracy: 0.6295 - val_auc: 0.8642 - val_precision: 1.0000 - val_recall: 8.9888e-04\n",
            "Epoch 5/100\n",
            "5/5 - 0s - loss: 0.6494 - accuracy: 0.6187 - auc: 0.5974 - precision: 0.4573 - recall: 0.0695 - val_loss: 0.6328 - val_accuracy: 0.6303 - val_auc: 0.8769 - val_precision: 1.0000 - val_recall: 0.0031\n",
            "Epoch 6/100\n",
            "5/5 - 0s - loss: 0.6383 - accuracy: 0.6269 - auc: 0.6322 - precision: 0.5356 - recall: 0.0666 - val_loss: 0.6229 - val_accuracy: 0.6342 - val_auc: 0.8831 - val_precision: 1.0000 - val_recall: 0.0135\n",
            "Epoch 7/100\n",
            "5/5 - 0s - loss: 0.6282 - accuracy: 0.6438 - auc: 0.6691 - precision: 0.6862 - recall: 0.0987 - val_loss: 0.6122 - val_accuracy: 0.6502 - val_auc: 0.8877 - val_precision: 0.9701 - val_recall: 0.0584\n",
            "Epoch 8/100\n",
            "5/5 - 0s - loss: 0.6136 - accuracy: 0.6707 - auc: 0.7188 - precision: 0.7969 - recall: 0.1680 - val_loss: 0.6003 - val_accuracy: 0.6862 - val_auc: 0.8911 - val_precision: 0.9647 - val_recall: 0.1596\n",
            "Epoch 9/100\n",
            "5/5 - 0s - loss: 0.5987 - accuracy: 0.6976 - auc: 0.7678 - precision: 0.8320 - recall: 0.2463 - val_loss: 0.5867 - val_accuracy: 0.7260 - val_auc: 0.8933 - val_precision: 0.9204 - val_recall: 0.2858\n",
            "Epoch 10/100\n",
            "5/5 - 0s - loss: 0.5851 - accuracy: 0.7211 - auc: 0.7971 - precision: 0.8434 - recall: 0.3179 - val_loss: 0.5711 - val_accuracy: 0.7555 - val_auc: 0.8952 - val_precision: 0.8948 - val_recall: 0.3861\n",
            "Epoch 11/100\n",
            "5/5 - 0s - loss: 0.5670 - accuracy: 0.7448 - auc: 0.8284 - precision: 0.8574 - recall: 0.3861 - val_loss: 0.5539 - val_accuracy: 0.7773 - val_auc: 0.8966 - val_precision: 0.8882 - val_recall: 0.4571\n",
            "Epoch 12/100\n",
            "5/5 - 0s - loss: 0.5515 - accuracy: 0.7605 - auc: 0.8470 - precision: 0.8749 - recall: 0.4244 - val_loss: 0.5360 - val_accuracy: 0.7898 - val_auc: 0.8978 - val_precision: 0.8777 - val_recall: 0.5034\n",
            "Epoch 13/100\n",
            "5/5 - 0s - loss: 0.5310 - accuracy: 0.7795 - auc: 0.8664 - precision: 0.8943 - recall: 0.4697 - val_loss: 0.5179 - val_accuracy: 0.7993 - val_auc: 0.8990 - val_precision: 0.8713 - val_recall: 0.5384\n",
            "Epoch 14/100\n",
            "5/5 - 0s - loss: 0.5120 - accuracy: 0.7934 - auc: 0.8792 - precision: 0.9010 - recall: 0.5067 - val_loss: 0.5002 - val_accuracy: 0.8060 - val_auc: 0.9001 - val_precision: 0.8582 - val_recall: 0.5712\n",
            "Epoch 15/100\n",
            "5/5 - 0s - loss: 0.4931 - accuracy: 0.8105 - auc: 0.8917 - precision: 0.9020 - recall: 0.5570 - val_loss: 0.4831 - val_accuracy: 0.8127 - val_auc: 0.9011 - val_precision: 0.8417 - val_recall: 0.6094\n",
            "Epoch 16/100\n",
            "5/5 - 0s - loss: 0.4789 - accuracy: 0.8210 - auc: 0.8983 - precision: 0.8961 - recall: 0.5932 - val_loss: 0.4669 - val_accuracy: 0.8170 - val_auc: 0.9021 - val_precision: 0.8305 - val_recall: 0.6364\n",
            "Epoch 17/100\n",
            "5/5 - 0s - loss: 0.4611 - accuracy: 0.8312 - auc: 0.9052 - precision: 0.8968 - recall: 0.6232 - val_loss: 0.4517 - val_accuracy: 0.8213 - val_auc: 0.9033 - val_precision: 0.8255 - val_recall: 0.6571\n",
            "Epoch 18/100\n",
            "5/5 - 0s - loss: 0.4445 - accuracy: 0.8382 - auc: 0.9127 - precision: 0.9021 - recall: 0.6396 - val_loss: 0.4380 - val_accuracy: 0.8250 - val_auc: 0.9043 - val_precision: 0.8223 - val_recall: 0.6737\n",
            "Epoch 19/100\n",
            "5/5 - 0s - loss: 0.4286 - accuracy: 0.8470 - auc: 0.9202 - precision: 0.9022 - recall: 0.6657 - val_loss: 0.4255 - val_accuracy: 0.8280 - val_auc: 0.9051 - val_precision: 0.8233 - val_recall: 0.6827\n",
            "Epoch 20/100\n",
            "5/5 - 0s - loss: 0.4134 - accuracy: 0.8509 - auc: 0.9241 - precision: 0.9015 - recall: 0.6781 - val_loss: 0.4146 - val_accuracy: 0.8285 - val_auc: 0.9060 - val_precision: 0.8201 - val_recall: 0.6885\n",
            "Epoch 21/100\n",
            "5/5 - 0s - loss: 0.3954 - accuracy: 0.8608 - auc: 0.9323 - precision: 0.9062 - recall: 0.7029 - val_loss: 0.4052 - val_accuracy: 0.8310 - val_auc: 0.9066 - val_precision: 0.8139 - val_recall: 0.7056\n",
            "Epoch 22/100\n",
            "5/5 - 0s - loss: 0.3865 - accuracy: 0.8689 - auc: 0.9355 - precision: 0.9143 - recall: 0.7193 - val_loss: 0.3971 - val_accuracy: 0.8313 - val_auc: 0.9070 - val_precision: 0.8099 - val_recall: 0.7124\n",
            "Epoch 23/100\n",
            "5/5 - 0s - loss: 0.3751 - accuracy: 0.8722 - auc: 0.9370 - precision: 0.9112 - recall: 0.7318 - val_loss: 0.3902 - val_accuracy: 0.8307 - val_auc: 0.9074 - val_precision: 0.8105 - val_recall: 0.7092\n",
            "Epoch 24/100\n",
            "5/5 - 0s - loss: 0.3643 - accuracy: 0.8739 - auc: 0.9413 - precision: 0.9119 - recall: 0.7362 - val_loss: 0.3846 - val_accuracy: 0.8312 - val_auc: 0.9078 - val_precision: 0.8124 - val_recall: 0.7083\n",
            "Epoch 25/100\n",
            "5/5 - 0s - loss: 0.3529 - accuracy: 0.8803 - auc: 0.9428 - precision: 0.9185 - recall: 0.7485 - val_loss: 0.3799 - val_accuracy: 0.8317 - val_auc: 0.9081 - val_precision: 0.8088 - val_recall: 0.7151\n",
            "Epoch 26/100\n",
            "5/5 - 0s - loss: 0.3388 - accuracy: 0.8881 - auc: 0.9483 - precision: 0.9207 - recall: 0.7690 - val_loss: 0.3763 - val_accuracy: 0.8332 - val_auc: 0.9082 - val_precision: 0.8039 - val_recall: 0.7276\n",
            "Epoch 27/100\n",
            "5/5 - 0s - loss: 0.3318 - accuracy: 0.8882 - auc: 0.9496 - precision: 0.9161 - recall: 0.7737 - val_loss: 0.3734 - val_accuracy: 0.8332 - val_auc: 0.9084 - val_precision: 0.7994 - val_recall: 0.7344\n",
            "Epoch 28/100\n",
            "5/5 - 0s - loss: 0.3234 - accuracy: 0.8952 - auc: 0.9532 - precision: 0.9242 - recall: 0.7860 - val_loss: 0.3713 - val_accuracy: 0.8343 - val_auc: 0.9084 - val_precision: 0.8019 - val_recall: 0.7348\n",
            "Epoch 29/100\n",
            "5/5 - 0s - loss: 0.3116 - accuracy: 0.8982 - auc: 0.9559 - precision: 0.9257 - recall: 0.7931 - val_loss: 0.3699 - val_accuracy: 0.8357 - val_auc: 0.9084 - val_precision: 0.7988 - val_recall: 0.7443\n",
            "Epoch 30/100\n",
            "5/5 - 0s - loss: 0.2994 - accuracy: 0.9023 - auc: 0.9598 - precision: 0.9312 - recall: 0.7994 - val_loss: 0.3691 - val_accuracy: 0.8353 - val_auc: 0.9083 - val_precision: 0.7984 - val_recall: 0.7438\n",
            "Epoch 31/100\n",
            "5/5 - 0s - loss: 0.2979 - accuracy: 0.9038 - auc: 0.9587 - precision: 0.9313 - recall: 0.8038 - val_loss: 0.3690 - val_accuracy: 0.8335 - val_auc: 0.9082 - val_precision: 0.8002 - val_recall: 0.7344\n",
            "Epoch 32/100\n",
            "5/5 - 0s - loss: 0.2915 - accuracy: 0.9077 - auc: 0.9605 - precision: 0.9381 - recall: 0.8080 - val_loss: 0.3693 - val_accuracy: 0.8355 - val_auc: 0.9079 - val_precision: 0.7973 - val_recall: 0.7461\n",
            "Epoch 33/100\n",
            "5/5 - 0s - loss: 0.2806 - accuracy: 0.9135 - auc: 0.9638 - precision: 0.9373 - recall: 0.8254 - val_loss: 0.3702 - val_accuracy: 0.8350 - val_auc: 0.9077 - val_precision: 0.7922 - val_recall: 0.7524\n",
            "Epoch 34/100\n",
            "5/5 - 0s - loss: 0.2746 - accuracy: 0.9138 - auc: 0.9657 - precision: 0.9350 - recall: 0.8286 - val_loss: 0.3715 - val_accuracy: 0.8347 - val_auc: 0.9073 - val_precision: 0.7926 - val_recall: 0.7506\n",
            "Epoch 35/100\n",
            "5/5 - 0s - loss: 0.2681 - accuracy: 0.9132 - auc: 0.9665 - precision: 0.9367 - recall: 0.8252 - val_loss: 0.3731 - val_accuracy: 0.8330 - val_auc: 0.9071 - val_precision: 0.7924 - val_recall: 0.7447\n",
            "Epoch 36/100\n",
            "5/5 - 0s - loss: 0.2592 - accuracy: 0.9170 - auc: 0.9690 - precision: 0.9387 - recall: 0.8339 - val_loss: 0.3752 - val_accuracy: 0.8332 - val_auc: 0.9066 - val_precision: 0.7954 - val_recall: 0.7407\n",
            "Epoch 37/100\n",
            "5/5 - 0s - loss: 0.2556 - accuracy: 0.9204 - auc: 0.9694 - precision: 0.9424 - recall: 0.8400 - val_loss: 0.3777 - val_accuracy: 0.8333 - val_auc: 0.9062 - val_precision: 0.7943 - val_recall: 0.7429\n",
            "Epoch 38/100\n",
            "5/5 - 0s - loss: 0.2516 - accuracy: 0.9220 - auc: 0.9705 - precision: 0.9474 - recall: 0.8394 - val_loss: 0.3801 - val_accuracy: 0.8333 - val_auc: 0.9058 - val_precision: 0.7915 - val_recall: 0.7474\n",
            "Epoch 39/100\n",
            "5/5 - 0s - loss: 0.2456 - accuracy: 0.9237 - auc: 0.9721 - precision: 0.9478 - recall: 0.8438 - val_loss: 0.3834 - val_accuracy: 0.8325 - val_auc: 0.9054 - val_precision: 0.7845 - val_recall: 0.7560\n"
          ],
          "name": "stdout"
        }
      ]
    },
    {
      "cell_type": "code",
      "metadata": {
        "id": "W8pDOGavCLYy",
        "outputId": "2eed00b1-d052-4084-f41f-8b31ac07902d",
        "colab": {
          "base_uri": "https://localhost:8080/",
          "height": 316
        }
      },
      "source": [
        "model_DNN.summary()"
      ],
      "execution_count": 19,
      "outputs": [
        {
          "output_type": "stream",
          "text": [
            "Model: \"sequential\"\n",
            "_________________________________________________________________\n",
            "Layer (type)                 Output Shape              Param #   \n",
            "=================================================================\n",
            "dense (Dense)                (None, 64)                1056448   \n",
            "_________________________________________________________________\n",
            "dropout (Dropout)            (None, 64)                0         \n",
            "_________________________________________________________________\n",
            "dense_1 (Dense)              (None, 16)                1040      \n",
            "_________________________________________________________________\n",
            "dropout_1 (Dropout)          (None, 16)                0         \n",
            "_________________________________________________________________\n",
            "dense_2 (Dense)              (None, 1)                 17        \n",
            "=================================================================\n",
            "Total params: 1,057,505\n",
            "Trainable params: 1,057,505\n",
            "Non-trainable params: 0\n",
            "_________________________________________________________________\n"
          ],
          "name": "stdout"
        }
      ]
    },
    {
      "cell_type": "code",
      "metadata": {
        "id": "NA9lzuLNnha_"
      },
      "source": [
        "history_data = pd.DataFrame(history.history)"
      ],
      "execution_count": 20,
      "outputs": []
    },
    {
      "cell_type": "code",
      "metadata": {
        "id": "DwS-mHlfvBil",
        "outputId": "42eb47d1-7786-438e-bea9-49a7dd430bd1",
        "colab": {
          "base_uri": "https://localhost:8080/",
          "height": 1000
        }
      },
      "source": [
        "history_data"
      ],
      "execution_count": 21,
      "outputs": [
        {
          "output_type": "execute_result",
          "data": {
            "text/html": [
              "<div>\n",
              "<style scoped>\n",
              "    .dataframe tbody tr th:only-of-type {\n",
              "        vertical-align: middle;\n",
              "    }\n",
              "\n",
              "    .dataframe tbody tr th {\n",
              "        vertical-align: top;\n",
              "    }\n",
              "\n",
              "    .dataframe thead th {\n",
              "        text-align: right;\n",
              "    }\n",
              "</style>\n",
              "<table border=\"1\" class=\"dataframe\">\n",
              "  <thead>\n",
              "    <tr style=\"text-align: right;\">\n",
              "      <th></th>\n",
              "      <th>loss</th>\n",
              "      <th>accuracy</th>\n",
              "      <th>auc</th>\n",
              "      <th>precision</th>\n",
              "      <th>recall</th>\n",
              "      <th>val_loss</th>\n",
              "      <th>val_accuracy</th>\n",
              "      <th>val_auc</th>\n",
              "      <th>val_precision</th>\n",
              "      <th>val_recall</th>\n",
              "    </tr>\n",
              "  </thead>\n",
              "  <tbody>\n",
              "    <tr>\n",
              "      <th>0</th>\n",
              "      <td>0.690659</td>\n",
              "      <td>0.534333</td>\n",
              "      <td>0.505201</td>\n",
              "      <td>0.381262</td>\n",
              "      <td>0.380812</td>\n",
              "      <td>0.677900</td>\n",
              "      <td>0.629167</td>\n",
              "      <td>0.713398</td>\n",
              "      <td>0.000000</td>\n",
              "      <td>0.000000</td>\n",
              "    </tr>\n",
              "    <tr>\n",
              "      <th>1</th>\n",
              "      <td>0.676566</td>\n",
              "      <td>0.592056</td>\n",
              "      <td>0.542218</td>\n",
              "      <td>0.416520</td>\n",
              "      <td>0.209151</td>\n",
              "      <td>0.664296</td>\n",
              "      <td>0.629167</td>\n",
              "      <td>0.805493</td>\n",
              "      <td>0.000000</td>\n",
              "      <td>0.000000</td>\n",
              "    </tr>\n",
              "    <tr>\n",
              "      <th>2</th>\n",
              "      <td>0.667205</td>\n",
              "      <td>0.603056</td>\n",
              "      <td>0.553487</td>\n",
              "      <td>0.404244</td>\n",
              "      <td>0.115277</td>\n",
              "      <td>0.652508</td>\n",
              "      <td>0.629167</td>\n",
              "      <td>0.845346</td>\n",
              "      <td>0.000000</td>\n",
              "      <td>0.000000</td>\n",
              "    </tr>\n",
              "    <tr>\n",
              "      <th>3</th>\n",
              "      <td>0.658539</td>\n",
              "      <td>0.612000</td>\n",
              "      <td>0.567950</td>\n",
              "      <td>0.421488</td>\n",
              "      <td>0.082804</td>\n",
              "      <td>0.642341</td>\n",
              "      <td>0.629500</td>\n",
              "      <td>0.864246</td>\n",
              "      <td>1.000000</td>\n",
              "      <td>0.000899</td>\n",
              "    </tr>\n",
              "    <tr>\n",
              "      <th>4</th>\n",
              "      <td>0.649432</td>\n",
              "      <td>0.618722</td>\n",
              "      <td>0.597385</td>\n",
              "      <td>0.457282</td>\n",
              "      <td>0.069520</td>\n",
              "      <td>0.632801</td>\n",
              "      <td>0.630333</td>\n",
              "      <td>0.876934</td>\n",
              "      <td>1.000000</td>\n",
              "      <td>0.003146</td>\n",
              "    </tr>\n",
              "    <tr>\n",
              "      <th>5</th>\n",
              "      <td>0.638324</td>\n",
              "      <td>0.626944</td>\n",
              "      <td>0.632169</td>\n",
              "      <td>0.535629</td>\n",
              "      <td>0.066568</td>\n",
              "      <td>0.622918</td>\n",
              "      <td>0.634167</td>\n",
              "      <td>0.883068</td>\n",
              "      <td>1.000000</td>\n",
              "      <td>0.013483</td>\n",
              "    </tr>\n",
              "    <tr>\n",
              "      <th>6</th>\n",
              "      <td>0.628236</td>\n",
              "      <td>0.643778</td>\n",
              "      <td>0.669072</td>\n",
              "      <td>0.686154</td>\n",
              "      <td>0.098745</td>\n",
              "      <td>0.612213</td>\n",
              "      <td>0.650167</td>\n",
              "      <td>0.887703</td>\n",
              "      <td>0.970149</td>\n",
              "      <td>0.058427</td>\n",
              "    </tr>\n",
              "    <tr>\n",
              "      <th>7</th>\n",
              "      <td>0.613589</td>\n",
              "      <td>0.670722</td>\n",
              "      <td>0.718804</td>\n",
              "      <td>0.796919</td>\n",
              "      <td>0.167970</td>\n",
              "      <td>0.600333</td>\n",
              "      <td>0.686167</td>\n",
              "      <td>0.891099</td>\n",
              "      <td>0.964674</td>\n",
              "      <td>0.159551</td>\n",
              "    </tr>\n",
              "    <tr>\n",
              "      <th>8</th>\n",
              "      <td>0.598748</td>\n",
              "      <td>0.697611</td>\n",
              "      <td>0.767773</td>\n",
              "      <td>0.832004</td>\n",
              "      <td>0.246347</td>\n",
              "      <td>0.586700</td>\n",
              "      <td>0.726000</td>\n",
              "      <td>0.893330</td>\n",
              "      <td>0.920405</td>\n",
              "      <td>0.285843</td>\n",
              "    </tr>\n",
              "    <tr>\n",
              "      <th>9</th>\n",
              "      <td>0.585128</td>\n",
              "      <td>0.721056</td>\n",
              "      <td>0.797099</td>\n",
              "      <td>0.843383</td>\n",
              "      <td>0.317934</td>\n",
              "      <td>0.571071</td>\n",
              "      <td>0.755500</td>\n",
              "      <td>0.895172</td>\n",
              "      <td>0.894792</td>\n",
              "      <td>0.386067</td>\n",
              "    </tr>\n",
              "    <tr>\n",
              "      <th>10</th>\n",
              "      <td>0.567026</td>\n",
              "      <td>0.744778</td>\n",
              "      <td>0.828410</td>\n",
              "      <td>0.857424</td>\n",
              "      <td>0.386125</td>\n",
              "      <td>0.553866</td>\n",
              "      <td>0.777333</td>\n",
              "      <td>0.896559</td>\n",
              "      <td>0.888210</td>\n",
              "      <td>0.457079</td>\n",
              "    </tr>\n",
              "    <tr>\n",
              "      <th>11</th>\n",
              "      <td>0.551502</td>\n",
              "      <td>0.760500</td>\n",
              "      <td>0.846995</td>\n",
              "      <td>0.874924</td>\n",
              "      <td>0.424354</td>\n",
              "      <td>0.536030</td>\n",
              "      <td>0.789833</td>\n",
              "      <td>0.897844</td>\n",
              "      <td>0.877743</td>\n",
              "      <td>0.503371</td>\n",
              "    </tr>\n",
              "    <tr>\n",
              "      <th>12</th>\n",
              "      <td>0.530993</td>\n",
              "      <td>0.779500</td>\n",
              "      <td>0.866365</td>\n",
              "      <td>0.894323</td>\n",
              "      <td>0.469668</td>\n",
              "      <td>0.517910</td>\n",
              "      <td>0.799333</td>\n",
              "      <td>0.899026</td>\n",
              "      <td>0.871273</td>\n",
              "      <td>0.538427</td>\n",
              "    </tr>\n",
              "    <tr>\n",
              "      <th>13</th>\n",
              "      <td>0.511957</td>\n",
              "      <td>0.793389</td>\n",
              "      <td>0.879244</td>\n",
              "      <td>0.901050</td>\n",
              "      <td>0.506716</td>\n",
              "      <td>0.500185</td>\n",
              "      <td>0.806000</td>\n",
              "      <td>0.900057</td>\n",
              "      <td>0.858204</td>\n",
              "      <td>0.571236</td>\n",
              "    </tr>\n",
              "    <tr>\n",
              "      <th>14</th>\n",
              "      <td>0.493087</td>\n",
              "      <td>0.810500</td>\n",
              "      <td>0.891680</td>\n",
              "      <td>0.902008</td>\n",
              "      <td>0.557048</td>\n",
              "      <td>0.483113</td>\n",
              "      <td>0.812667</td>\n",
              "      <td>0.901092</td>\n",
              "      <td>0.841713</td>\n",
              "      <td>0.609438</td>\n",
              "    </tr>\n",
              "    <tr>\n",
              "      <th>15</th>\n",
              "      <td>0.478863</td>\n",
              "      <td>0.821000</td>\n",
              "      <td>0.898296</td>\n",
              "      <td>0.896098</td>\n",
              "      <td>0.593210</td>\n",
              "      <td>0.466896</td>\n",
              "      <td>0.817000</td>\n",
              "      <td>0.902128</td>\n",
              "      <td>0.830499</td>\n",
              "      <td>0.636405</td>\n",
              "    </tr>\n",
              "    <tr>\n",
              "      <th>16</th>\n",
              "      <td>0.461133</td>\n",
              "      <td>0.831167</td>\n",
              "      <td>0.905182</td>\n",
              "      <td>0.896771</td>\n",
              "      <td>0.623173</td>\n",
              "      <td>0.451656</td>\n",
              "      <td>0.821333</td>\n",
              "      <td>0.903331</td>\n",
              "      <td>0.825522</td>\n",
              "      <td>0.657079</td>\n",
              "    </tr>\n",
              "    <tr>\n",
              "      <th>17</th>\n",
              "      <td>0.444526</td>\n",
              "      <td>0.838222</td>\n",
              "      <td>0.912700</td>\n",
              "      <td>0.902144</td>\n",
              "      <td>0.639557</td>\n",
              "      <td>0.437975</td>\n",
              "      <td>0.825000</td>\n",
              "      <td>0.904261</td>\n",
              "      <td>0.822271</td>\n",
              "      <td>0.673708</td>\n",
              "    </tr>\n",
              "    <tr>\n",
              "      <th>18</th>\n",
              "      <td>0.428589</td>\n",
              "      <td>0.847000</td>\n",
              "      <td>0.920207</td>\n",
              "      <td>0.902180</td>\n",
              "      <td>0.665683</td>\n",
              "      <td>0.425543</td>\n",
              "      <td>0.828000</td>\n",
              "      <td>0.905130</td>\n",
              "      <td>0.823306</td>\n",
              "      <td>0.682697</td>\n",
              "    </tr>\n",
              "    <tr>\n",
              "      <th>19</th>\n",
              "      <td>0.413435</td>\n",
              "      <td>0.850944</td>\n",
              "      <td>0.924076</td>\n",
              "      <td>0.901491</td>\n",
              "      <td>0.678081</td>\n",
              "      <td>0.414602</td>\n",
              "      <td>0.828500</td>\n",
              "      <td>0.905981</td>\n",
              "      <td>0.820129</td>\n",
              "      <td>0.688539</td>\n",
              "    </tr>\n",
              "    <tr>\n",
              "      <th>20</th>\n",
              "      <td>0.395406</td>\n",
              "      <td>0.860778</td>\n",
              "      <td>0.932317</td>\n",
              "      <td>0.906185</td>\n",
              "      <td>0.702878</td>\n",
              "      <td>0.405154</td>\n",
              "      <td>0.831000</td>\n",
              "      <td>0.906561</td>\n",
              "      <td>0.813893</td>\n",
              "      <td>0.705618</td>\n",
              "    </tr>\n",
              "    <tr>\n",
              "      <th>21</th>\n",
              "      <td>0.386453</td>\n",
              "      <td>0.868944</td>\n",
              "      <td>0.935491</td>\n",
              "      <td>0.914259</td>\n",
              "      <td>0.719262</td>\n",
              "      <td>0.397075</td>\n",
              "      <td>0.831333</td>\n",
              "      <td>0.907014</td>\n",
              "      <td>0.809913</td>\n",
              "      <td>0.712360</td>\n",
              "    </tr>\n",
              "    <tr>\n",
              "      <th>22</th>\n",
              "      <td>0.375063</td>\n",
              "      <td>0.872222</td>\n",
              "      <td>0.936952</td>\n",
              "      <td>0.911230</td>\n",
              "      <td>0.731808</td>\n",
              "      <td>0.390163</td>\n",
              "      <td>0.830667</td>\n",
              "      <td>0.907412</td>\n",
              "      <td>0.810478</td>\n",
              "      <td>0.709213</td>\n",
              "    </tr>\n",
              "    <tr>\n",
              "      <th>23</th>\n",
              "      <td>0.364304</td>\n",
              "      <td>0.873944</td>\n",
              "      <td>0.941261</td>\n",
              "      <td>0.911883</td>\n",
              "      <td>0.736236</td>\n",
              "      <td>0.384556</td>\n",
              "      <td>0.831167</td>\n",
              "      <td>0.907773</td>\n",
              "      <td>0.812371</td>\n",
              "      <td>0.708315</td>\n",
              "    </tr>\n",
              "    <tr>\n",
              "      <th>24</th>\n",
              "      <td>0.352929</td>\n",
              "      <td>0.880333</td>\n",
              "      <td>0.942788</td>\n",
              "      <td>0.918493</td>\n",
              "      <td>0.748487</td>\n",
              "      <td>0.379885</td>\n",
              "      <td>0.831667</td>\n",
              "      <td>0.908083</td>\n",
              "      <td>0.808846</td>\n",
              "      <td>0.715056</td>\n",
              "    </tr>\n",
              "    <tr>\n",
              "      <th>25</th>\n",
              "      <td>0.338812</td>\n",
              "      <td>0.888111</td>\n",
              "      <td>0.948258</td>\n",
              "      <td>0.920657</td>\n",
              "      <td>0.769004</td>\n",
              "      <td>0.376251</td>\n",
              "      <td>0.833167</td>\n",
              "      <td>0.908222</td>\n",
              "      <td>0.803873</td>\n",
              "      <td>0.727640</td>\n",
              "    </tr>\n",
              "    <tr>\n",
              "      <th>26</th>\n",
              "      <td>0.331763</td>\n",
              "      <td>0.888167</td>\n",
              "      <td>0.949570</td>\n",
              "      <td>0.916113</td>\n",
              "      <td>0.773727</td>\n",
              "      <td>0.373435</td>\n",
              "      <td>0.833167</td>\n",
              "      <td>0.908375</td>\n",
              "      <td>0.799413</td>\n",
              "      <td>0.734382</td>\n",
              "    </tr>\n",
              "    <tr>\n",
              "      <th>27</th>\n",
              "      <td>0.323417</td>\n",
              "      <td>0.895167</td>\n",
              "      <td>0.953159</td>\n",
              "      <td>0.924158</td>\n",
              "      <td>0.785978</td>\n",
              "      <td>0.371334</td>\n",
              "      <td>0.834333</td>\n",
              "      <td>0.908357</td>\n",
              "      <td>0.801864</td>\n",
              "      <td>0.734831</td>\n",
              "    </tr>\n",
              "    <tr>\n",
              "      <th>28</th>\n",
              "      <td>0.311626</td>\n",
              "      <td>0.898167</td>\n",
              "      <td>0.955876</td>\n",
              "      <td>0.925741</td>\n",
              "      <td>0.793063</td>\n",
              "      <td>0.369863</td>\n",
              "      <td>0.835667</td>\n",
              "      <td>0.908419</td>\n",
              "      <td>0.798842</td>\n",
              "      <td>0.744270</td>\n",
              "    </tr>\n",
              "    <tr>\n",
              "      <th>29</th>\n",
              "      <td>0.299432</td>\n",
              "      <td>0.902278</td>\n",
              "      <td>0.959770</td>\n",
              "      <td>0.931224</td>\n",
              "      <td>0.799410</td>\n",
              "      <td>0.369071</td>\n",
              "      <td>0.835333</td>\n",
              "      <td>0.908250</td>\n",
              "      <td>0.798360</td>\n",
              "      <td>0.743820</td>\n",
              "    </tr>\n",
              "    <tr>\n",
              "      <th>30</th>\n",
              "      <td>0.297893</td>\n",
              "      <td>0.903833</td>\n",
              "      <td>0.958708</td>\n",
              "      <td>0.931259</td>\n",
              "      <td>0.803838</td>\n",
              "      <td>0.368966</td>\n",
              "      <td>0.833500</td>\n",
              "      <td>0.908184</td>\n",
              "      <td>0.800196</td>\n",
              "      <td>0.734382</td>\n",
              "    </tr>\n",
              "    <tr>\n",
              "      <th>31</th>\n",
              "      <td>0.291500</td>\n",
              "      <td>0.907667</td>\n",
              "      <td>0.960539</td>\n",
              "      <td>0.938132</td>\n",
              "      <td>0.807970</td>\n",
              "      <td>0.369307</td>\n",
              "      <td>0.835500</td>\n",
              "      <td>0.907925</td>\n",
              "      <td>0.797310</td>\n",
              "      <td>0.746067</td>\n",
              "    </tr>\n",
              "    <tr>\n",
              "      <th>32</th>\n",
              "      <td>0.280598</td>\n",
              "      <td>0.913500</td>\n",
              "      <td>0.963810</td>\n",
              "      <td>0.937311</td>\n",
              "      <td>0.825387</td>\n",
              "      <td>0.370199</td>\n",
              "      <td>0.835000</td>\n",
              "      <td>0.907664</td>\n",
              "      <td>0.792239</td>\n",
              "      <td>0.752360</td>\n",
              "    </tr>\n",
              "    <tr>\n",
              "      <th>33</th>\n",
              "      <td>0.274606</td>\n",
              "      <td>0.913833</td>\n",
              "      <td>0.965711</td>\n",
              "      <td>0.935043</td>\n",
              "      <td>0.828635</td>\n",
              "      <td>0.371474</td>\n",
              "      <td>0.834667</td>\n",
              "      <td>0.907325</td>\n",
              "      <td>0.792596</td>\n",
              "      <td>0.750562</td>\n",
              "    </tr>\n",
              "    <tr>\n",
              "      <th>34</th>\n",
              "      <td>0.268089</td>\n",
              "      <td>0.913222</td>\n",
              "      <td>0.966477</td>\n",
              "      <td>0.936673</td>\n",
              "      <td>0.825240</td>\n",
              "      <td>0.373108</td>\n",
              "      <td>0.833000</td>\n",
              "      <td>0.907057</td>\n",
              "      <td>0.792444</td>\n",
              "      <td>0.744719</td>\n",
              "    </tr>\n",
              "    <tr>\n",
              "      <th>35</th>\n",
              "      <td>0.259232</td>\n",
              "      <td>0.917000</td>\n",
              "      <td>0.968989</td>\n",
              "      <td>0.938694</td>\n",
              "      <td>0.833948</td>\n",
              "      <td>0.375232</td>\n",
              "      <td>0.833167</td>\n",
              "      <td>0.906602</td>\n",
              "      <td>0.795367</td>\n",
              "      <td>0.740674</td>\n",
              "    </tr>\n",
              "    <tr>\n",
              "      <th>36</th>\n",
              "      <td>0.255641</td>\n",
              "      <td>0.920444</td>\n",
              "      <td>0.969406</td>\n",
              "      <td>0.942375</td>\n",
              "      <td>0.840000</td>\n",
              "      <td>0.377658</td>\n",
              "      <td>0.833333</td>\n",
              "      <td>0.906199</td>\n",
              "      <td>0.794330</td>\n",
              "      <td>0.742921</td>\n",
              "    </tr>\n",
              "    <tr>\n",
              "      <th>37</th>\n",
              "      <td>0.251580</td>\n",
              "      <td>0.922000</td>\n",
              "      <td>0.970536</td>\n",
              "      <td>0.947360</td>\n",
              "      <td>0.839410</td>\n",
              "      <td>0.380139</td>\n",
              "      <td>0.833333</td>\n",
              "      <td>0.905768</td>\n",
              "      <td>0.791528</td>\n",
              "      <td>0.747416</td>\n",
              "    </tr>\n",
              "    <tr>\n",
              "      <th>38</th>\n",
              "      <td>0.245558</td>\n",
              "      <td>0.923722</td>\n",
              "      <td>0.972098</td>\n",
              "      <td>0.947779</td>\n",
              "      <td>0.843838</td>\n",
              "      <td>0.383351</td>\n",
              "      <td>0.832500</td>\n",
              "      <td>0.905353</td>\n",
              "      <td>0.784515</td>\n",
              "      <td>0.755955</td>\n",
              "    </tr>\n",
              "  </tbody>\n",
              "</table>\n",
              "</div>"
            ],
            "text/plain": [
              "        loss  accuracy       auc  ...   val_auc  val_precision  val_recall\n",
              "0   0.690659  0.534333  0.505201  ...  0.713398       0.000000    0.000000\n",
              "1   0.676566  0.592056  0.542218  ...  0.805493       0.000000    0.000000\n",
              "2   0.667205  0.603056  0.553487  ...  0.845346       0.000000    0.000000\n",
              "3   0.658539  0.612000  0.567950  ...  0.864246       1.000000    0.000899\n",
              "4   0.649432  0.618722  0.597385  ...  0.876934       1.000000    0.003146\n",
              "5   0.638324  0.626944  0.632169  ...  0.883068       1.000000    0.013483\n",
              "6   0.628236  0.643778  0.669072  ...  0.887703       0.970149    0.058427\n",
              "7   0.613589  0.670722  0.718804  ...  0.891099       0.964674    0.159551\n",
              "8   0.598748  0.697611  0.767773  ...  0.893330       0.920405    0.285843\n",
              "9   0.585128  0.721056  0.797099  ...  0.895172       0.894792    0.386067\n",
              "10  0.567026  0.744778  0.828410  ...  0.896559       0.888210    0.457079\n",
              "11  0.551502  0.760500  0.846995  ...  0.897844       0.877743    0.503371\n",
              "12  0.530993  0.779500  0.866365  ...  0.899026       0.871273    0.538427\n",
              "13  0.511957  0.793389  0.879244  ...  0.900057       0.858204    0.571236\n",
              "14  0.493087  0.810500  0.891680  ...  0.901092       0.841713    0.609438\n",
              "15  0.478863  0.821000  0.898296  ...  0.902128       0.830499    0.636405\n",
              "16  0.461133  0.831167  0.905182  ...  0.903331       0.825522    0.657079\n",
              "17  0.444526  0.838222  0.912700  ...  0.904261       0.822271    0.673708\n",
              "18  0.428589  0.847000  0.920207  ...  0.905130       0.823306    0.682697\n",
              "19  0.413435  0.850944  0.924076  ...  0.905981       0.820129    0.688539\n",
              "20  0.395406  0.860778  0.932317  ...  0.906561       0.813893    0.705618\n",
              "21  0.386453  0.868944  0.935491  ...  0.907014       0.809913    0.712360\n",
              "22  0.375063  0.872222  0.936952  ...  0.907412       0.810478    0.709213\n",
              "23  0.364304  0.873944  0.941261  ...  0.907773       0.812371    0.708315\n",
              "24  0.352929  0.880333  0.942788  ...  0.908083       0.808846    0.715056\n",
              "25  0.338812  0.888111  0.948258  ...  0.908222       0.803873    0.727640\n",
              "26  0.331763  0.888167  0.949570  ...  0.908375       0.799413    0.734382\n",
              "27  0.323417  0.895167  0.953159  ...  0.908357       0.801864    0.734831\n",
              "28  0.311626  0.898167  0.955876  ...  0.908419       0.798842    0.744270\n",
              "29  0.299432  0.902278  0.959770  ...  0.908250       0.798360    0.743820\n",
              "30  0.297893  0.903833  0.958708  ...  0.908184       0.800196    0.734382\n",
              "31  0.291500  0.907667  0.960539  ...  0.907925       0.797310    0.746067\n",
              "32  0.280598  0.913500  0.963810  ...  0.907664       0.792239    0.752360\n",
              "33  0.274606  0.913833  0.965711  ...  0.907325       0.792596    0.750562\n",
              "34  0.268089  0.913222  0.966477  ...  0.907057       0.792444    0.744719\n",
              "35  0.259232  0.917000  0.968989  ...  0.906602       0.795367    0.740674\n",
              "36  0.255641  0.920444  0.969406  ...  0.906199       0.794330    0.742921\n",
              "37  0.251580  0.922000  0.970536  ...  0.905768       0.791528    0.747416\n",
              "38  0.245558  0.923722  0.972098  ...  0.905353       0.784515    0.755955\n",
              "\n",
              "[39 rows x 10 columns]"
            ]
          },
          "metadata": {
            "tags": []
          },
          "execution_count": 21
        }
      ]
    },
    {
      "cell_type": "code",
      "metadata": {
        "id": "pjFY-enb2E7-",
        "outputId": "0494ac93-cc14-48e3-bc8d-9c467d7747eb",
        "colab": {
          "base_uri": "https://localhost:8080/",
          "height": 1000
        }
      },
      "source": [
        "# Plot training & validation accuracy values\n",
        "plt.plot(history.history['accuracy'])\n",
        "plt.plot(history.history['val_accuracy'])\n",
        "plt.title('Model accuracy')\n",
        "plt.ylabel('Accuracy')\n",
        "plt.xlabel('Epoch')\n",
        "plt.legend(['Train', 'Test'], loc='upper left')\n",
        "plt.show()\n",
        "\n",
        "# Plot training & validation loss values\n",
        "plt.plot(history.history['loss'])\n",
        "plt.plot(history.history['val_loss'])\n",
        "plt.title('Model loss')\n",
        "plt.ylabel('Loss')\n",
        "plt.xlabel('Epoch')\n",
        "plt.legend(['Train', 'Test'], loc='upper left')\n",
        "plt.show()\n",
        "\n",
        "\n",
        "plt.plot(history.history['recall'])\n",
        "plt.plot(history.history['val_recall'])\n",
        "plt.title('Model Recall')\n",
        "plt.ylabel('Recall')\n",
        "plt.xlabel('Epoch')\n",
        "plt.legend(['Train', 'Test'], loc='upper left')\n",
        "plt.show()\n",
        "\n",
        "plt.plot(history.history['precision'])\n",
        "plt.plot(history.history['val_precision'])\n",
        "plt.title('Model Precision')\n",
        "plt.ylabel('Precision')\n",
        "plt.xlabel('Epoch')\n",
        "plt.legend(['Train', 'Test'], loc='upper left')\n",
        "plt.show()"
      ],
      "execution_count": 22,
      "outputs": [
        {
          "output_type": "display_data",
          "data": {
            "image/png": "[encoded data removed]",
            "text/plain": [
              "<Figure size 432x288 with 1 Axes>"
            ]
          },
          "metadata": {
            "tags": [],
            "needs_background": "light"
          }
        },
        {
          "output_type": "display_data",
          "data": {
            "image/png": "[encoded data removed]",
            "text/plain": [
              "<Figure size 432x288 with 1 Axes>"
            ]
          },
          "metadata": {
            "tags": [],
            "needs_background": "light"
          }
        },
        {
          "output_type": "display_data",
          "data": {
            "image/png": "[encoded data removed]",
            "text/plain": [
              "<Figure size 432x288 with 1 Axes>"
            ]
          },
          "metadata": {
            "tags": [],
            "needs_background": "light"
          }
        },
        {
          "output_type": "display_data",
          "data": {
            "image/png": "[encoded data removed]",
            "text/plain": [
              "<Figure size 432x288 with 1 Axes>"
            ]
          },
          "metadata": {
            "tags": [],
            "needs_background": "light"
          }
        }
      ]
    },
    {
      "cell_type": "code",
      "metadata": {
        "id": "JANhEnjNH0vg"
      },
      "source": [
        "results = model_DNN.evaluate(X_test_tfidf, y_test, verbose=False)"
      ],
      "execution_count": 23,
      "outputs": []
    },
    {
      "cell_type": "code",
      "metadata": {
        "id": "-Cda4vvBJO8M",
        "outputId": "36b38ec5-e696-4279-aa8e-24d36868b23a",
        "colab": {
          "base_uri": "https://localhost:8080/",
          "height": 116
        }
      },
      "source": [
        "print(\"Testing\")\n",
        "print(\"LOSS : {:.4f}\\nBINARY_ACC : {:.4f}\\nAUC : {:.4f}\\nPRECISION : {:.4f}\\nRECALL : {:.4f}\".format(*results))"
      ],
      "execution_count": 25,
      "outputs": [
        {
          "output_type": "stream",
          "text": [
            "Testing\n",
            "LOSS : 0.3834\n",
            "BINARY_ACC : 0.8325\n",
            "AUC : 0.9054\n",
            "PRECISION : 0.7845\n",
            "RECALL : 0.7560\n"
          ],
          "name": "stdout"
        }
      ]
    },
    {
      "cell_type": "markdown",
      "metadata": {
        "id": "y09Vj_dLlweV"
      },
      "source": [
        "#Grid Search"
      ]
    },
    {
      "cell_type": "code",
      "metadata": {
        "id": "MsZLoW1g1-qW"
      },
      "source": [
        "X = vectorizer_x.fit_transform(df_X).toarray()"
      ],
      "execution_count": null,
      "outputs": []
    },
    {
      "cell_type": "code",
      "metadata": {
        "id": "GTVVMxSSfOkb"
      },
      "source": [
        "#######################################################\n",
        "## Neurons\n",
        "## Dropout"
      ],
      "execution_count": null,
      "outputs": []
    },
    {
      "cell_type": "code",
      "metadata": {
        "id": "0oGKyyj1fTxi"
      },
      "source": [
        "# define the grid search parameters\n",
        "hidden = [1,2]\n",
        "neurons = [16,32,64]\n",
        "drops = [0.85]\n",
        "param_grid = dict(dropout=drops, neurons=neurons, nLayers=hidden)"
      ],
      "execution_count": null,
      "outputs": []
    },
    {
      "cell_type": "code",
      "metadata": {
        "id": "HCsQRUwfgrE5"
      },
      "source": [
        "model = KerasClassifier(build_fn=Build_Model_DNN_Text, epochs=20, batch_size=2048, verbose=0, shape = X.shape[1], optimizer='Adam')"
      ],
      "execution_count": null,
      "outputs": []
    },
    {
      "cell_type": "code",
      "metadata": {
        "id": "FKnyTsIlgoi2",
        "outputId": "8dddd673-2eaf-49b3-b326-280f8aa24e65",
        "colab": {
          "base_uri": "https://localhost:8080/",
          "height": 683
        }
      },
      "source": [
        "grid = GridSearchCV(estimator=model, param_grid=param_grid, cv=3, n_jobs=1, verbose=2)\n",
        "grid_result = grid.fit(X, df_Y)"
      ],
      "execution_count": null,
      "outputs": [
        {
          "output_type": "stream",
          "text": [
            "Fitting 3 folds for each of 6 candidates, totalling 18 fits\n",
            "[CV] dropout=0.85, nLayers=1, neurons=16 .............................\n"
          ],
          "name": "stdout"
        },
        {
          "output_type": "stream",
          "text": [
            "[Parallel(n_jobs=1)]: Using backend SequentialBackend with 1 concurrent workers.\n"
          ],
          "name": "stderr"
        },
        {
          "output_type": "stream",
          "text": [
            "[CV] .............. dropout=0.85, nLayers=1, neurons=16, total=  25.5s\n",
            "[CV] dropout=0.85, nLayers=1, neurons=16 .............................\n"
          ],
          "name": "stdout"
        },
        {
          "output_type": "stream",
          "text": [
            "[Parallel(n_jobs=1)]: Done   1 out of   1 | elapsed:   25.5s remaining:    0.0s\n"
          ],
          "name": "stderr"
        },
        {
          "output_type": "stream",
          "text": [
            "[CV] .............. dropout=0.85, nLayers=1, neurons=16, total=  25.1s\n",
            "[CV] dropout=0.85, nLayers=1, neurons=16 .............................\n",
            "[CV] .............. dropout=0.85, nLayers=1, neurons=16, total=  25.2s\n",
            "[CV] dropout=0.85, nLayers=1, neurons=32 .............................\n",
            "[CV] .............. dropout=0.85, nLayers=1, neurons=32, total=  25.2s\n",
            "[CV] dropout=0.85, nLayers=1, neurons=32 .............................\n",
            "[CV] .............. dropout=0.85, nLayers=1, neurons=32, total=  25.6s\n",
            "[CV] dropout=0.85, nLayers=1, neurons=32 .............................\n",
            "[CV] .............. dropout=0.85, nLayers=1, neurons=32, total=  25.3s\n",
            "[CV] dropout=0.85, nLayers=1, neurons=64 .............................\n",
            "[CV] .............. dropout=0.85, nLayers=1, neurons=64, total=  25.2s\n",
            "[CV] dropout=0.85, nLayers=1, neurons=64 .............................\n",
            "[CV] .............. dropout=0.85, nLayers=1, neurons=64, total=  25.1s\n",
            "[CV] dropout=0.85, nLayers=1, neurons=64 .............................\n",
            "[CV] .............. dropout=0.85, nLayers=1, neurons=64, total=  25.1s\n",
            "[CV] dropout=0.85, nLayers=2, neurons=16 .............................\n",
            "[CV] .............. dropout=0.85, nLayers=2, neurons=16, total=  25.3s\n",
            "[CV] dropout=0.85, nLayers=2, neurons=16 .............................\n",
            "[CV] .............. dropout=0.85, nLayers=2, neurons=16, total=  25.2s\n",
            "[CV] dropout=0.85, nLayers=2, neurons=16 .............................\n",
            "[CV] .............. dropout=0.85, nLayers=2, neurons=16, total=  25.2s\n",
            "[CV] dropout=0.85, nLayers=2, neurons=32 .............................\n",
            "[CV] .............. dropout=0.85, nLayers=2, neurons=32, total=  25.4s\n",
            "[CV] dropout=0.85, nLayers=2, neurons=32 .............................\n",
            "[CV] .............. dropout=0.85, nLayers=2, neurons=32, total=  24.9s\n",
            "[CV] dropout=0.85, nLayers=2, neurons=32 .............................\n",
            "[CV] .............. dropout=0.85, nLayers=2, neurons=32, total=  25.0s\n",
            "[CV] dropout=0.85, nLayers=2, neurons=64 .............................\n",
            "[CV] .............. dropout=0.85, nLayers=2, neurons=64, total=  24.9s\n",
            "[CV] dropout=0.85, nLayers=2, neurons=64 .............................\n",
            "[CV] .............. dropout=0.85, nLayers=2, neurons=64, total=  24.8s\n",
            "[CV] dropout=0.85, nLayers=2, neurons=64 .............................\n",
            "[CV] .............. dropout=0.85, nLayers=2, neurons=64, total=  24.8s\n"
          ],
          "name": "stdout"
        },
        {
          "output_type": "stream",
          "text": [
            "[Parallel(n_jobs=1)]: Done  18 out of  18 | elapsed:  7.5min finished\n"
          ],
          "name": "stderr"
        }
      ]
    },
    {
      "cell_type": "code",
      "metadata": {
        "id": "4kAOibtiglTW",
        "outputId": "e29b164b-1440-47c5-8ee4-02d06eb3d792",
        "colab": {
          "base_uri": "https://localhost:8080/",
          "height": 133
        }
      },
      "source": [
        "# summarize results\n",
        "print(\"Best: %f using %s\" % (grid_result.best_score_, grid_result.best_params_))\n",
        "means = grid_result.cv_results_['mean_test_score']\n",
        "stds = grid_result.cv_results_['std_test_score']\n",
        "params = grid_result.cv_results_['params']\n",
        "for mean, stdev, param in zip(means, stds, params):\n",
        "    print(\"%f (%f) with: %r\" % (mean, stdev, param))"
      ],
      "execution_count": null,
      "outputs": [
        {
          "output_type": "stream",
          "text": [
            "Best: 0.836375 using {'dropout': 0.85, 'nLayers': 1, 'neurons': 16}\n",
            "0.836375 (0.002477) with: {'dropout': 0.85, 'nLayers': 1, 'neurons': 16}\n",
            "0.832000 (0.001987) with: {'dropout': 0.85, 'nLayers': 1, 'neurons': 32}\n",
            "0.829500 (0.002624) with: {'dropout': 0.85, 'nLayers': 1, 'neurons': 64}\n",
            "0.835083 (0.002399) with: {'dropout': 0.85, 'nLayers': 2, 'neurons': 16}\n",
            "0.833792 (0.002536) with: {'dropout': 0.85, 'nLayers': 2, 'neurons': 32}\n",
            "0.830292 (0.002359) with: {'dropout': 0.85, 'nLayers': 2, 'neurons': 64}\n"
          ],
          "name": "stdout"
        }
      ]
    },
    {
      "cell_type": "code",
      "metadata": {
        "id": "NiTSOtJZaZ6X"
      },
      "source": [
        ""
      ],
      "execution_count": null,
      "outputs": []
    }
  ]
}